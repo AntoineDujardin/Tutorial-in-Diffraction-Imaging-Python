{
 "cells": [
  {
   "cell_type": "markdown",
   "metadata": {},
   "source": [
    "# Chapter 1. Projection images"
   ]
  },
  {
   "cell_type": "markdown",
   "metadata": {},
   "source": [
    "- Approximately how large is the molecule?\n",
    "\n",
    "    About 6-8 $\\overset{\\circ}{\\text{A}}$."
   ]
  },
  {
   "cell_type": "markdown",
   "metadata": {},
   "source": [
    "- Does this seem like a reasonable projection of the caffeine molecule?\n",
    "\n",
    "    Of course!"
   ]
  },
  {
   "cell_type": "markdown",
   "metadata": {},
   "source": [
    "- In what sense is a two dimensional plot of a three-dimensional function similar to a projection?\n",
    "\n",
    "    As we have defined before, the two dimensional plot is an integral of the three-dimensional function along a single coordinate."
   ]
  },
  {
   "cell_type": "markdown",
   "metadata": {},
   "source": [
    "- Can you explain this?\n",
    "\n",
    "    If you look at the **drawmol** function and compare the its parameters with the colors of the caffeine molecule, you will notice that the brighter spots are related to elements O and N (with O brighter than N), and the less brighter spots are related to element C. The reason is simply that the electronegativity order of these elements is O>N>C, therefore the ability to attract electrons is O>N>C. This explain the order of brightness shown in the density figure."
   ]
  },
  {
   "cell_type": "markdown",
   "metadata": {},
   "source": [
    "# Chapter 2. Diffraction concepts"
   ]
  },
  {
   "cell_type": "markdown",
   "metadata": {},
   "source": []
  }
 ],
 "metadata": {
  "anaconda-cloud": {},
  "kernelspec": {
   "display_name": "Python [default]",
   "language": "python",
   "name": "python2"
  },
  "language_info": {
   "codemirror_mode": {
    "name": "ipython",
    "version": 2
   },
   "file_extension": ".py",
   "mimetype": "text/x-python",
   "name": "python",
   "nbconvert_exporter": "python",
   "pygments_lexer": "ipython2",
   "version": "2.7.12"
  }
 },
 "nbformat": 4,
 "nbformat_minor": 1
}
